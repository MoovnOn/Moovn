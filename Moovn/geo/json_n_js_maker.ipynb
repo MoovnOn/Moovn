{
 "cells": [
  {
   "cell_type": "code",
   "execution_count": 21,
   "metadata": {
    "collapsed": false
   },
   "outputs": [
    {
     "name": "stdout",
     "output_type": "stream",
     "text": [
      "151130\n",
      "151133\n",
      "151132\n"
     ]
    }
   ],
   "source": [
    "title = \"software developer\".title()\n",
    "with open('oe_ocup.csv') as file:\n",
    "    for line in occupations:\n",
    "        if all(word in occupations[line] for word in title):\n",
    "            print(line)"
   ]
  },
  {
   "cell_type": "code",
   "execution_count": 2,
   "metadata": {
    "collapsed": true
   },
   "outputs": [],
   "source": [
    "with open('oe_ocup.csv') as file:\n",
    "    occupations = {line.split(',',1)[0].rstrip('\\n') : line.split(',',1)[1].rstrip('\\n') for line in file}"
   ]
  },
  {
   "cell_type": "code",
   "execution_count": 79,
   "metadata": {
    "collapsed": false
   },
   "outputs": [
    {
     "data": {
      "text/plain": [
       "'\"Barbers, Hairdressers, Hairstylists and Cosmetologists\"'"
      ]
     },
     "execution_count": 79,
     "metadata": {},
     "output_type": "execute_result"
    }
   ],
   "source": [
    "occupations['395010']"
   ]
  },
  {
   "cell_type": "code",
   "execution_count": 3,
   "metadata": {
    "collapsed": false
   },
   "outputs": [],
   "source": [
    "jobtitles = [occupations[job] for job in occupations]"
   ]
  },
  {
   "cell_type": "code",
   "execution_count": 75,
   "metadata": {
    "collapsed": false
   },
   "outputs": [],
   "source": [
    "jdf = pd.DataFrame()"
   ]
  },
  {
   "cell_type": "code",
   "execution_count": 83,
   "metadata": {
    "collapsed": false
   },
   "outputs": [],
   "source": [
    "with open(\"jobtitles.json\", \"w\") as fh:\n",
    "    fh.write(\"{\\\"jobtitles\\\":\")\n",
    "    fh.write(\"[\")\n",
    "    count = len(jobtitles)\n",
    "    for title in jobtitles:\n",
    "        if count > 1:\n",
    "                if ',' in title:\n",
    "                    fh.write(title + ',')\n",
    "                else:\n",
    "                    fh.write(\"\\\"\" + title + \"\\\"\" + ',')\n",
    "                count -= 1\n",
    "        else:\n",
    "            if ',' in title:\n",
    "                fh.write(title)\n",
    "            else:\n",
    "                fh.write(\"\\\"\" + title + \"\\\"\")\n",
    "    fh.write(\"]\")\n",
    "    fh.write(\"}\")"
   ]
  },
  {
   "cell_type": "code",
   "execution_count": 8,
   "metadata": {
    "collapsed": false
   },
   "outputs": [],
   "source": [
    "with open(\"jobtitles.js\", \"w\") as fh:\n",
    "    fh.write(\"jobtitles\")\n",
    "    fh.write(\" = \")\n",
    "    fh.write(\"[\")\n",
    "    count = len(jobtitles)\n",
    "    for title in jobtitles:\n",
    "        if count > 1:\n",
    "                if ',' in title:\n",
    "                    fh.write(title + ',')\n",
    "                else:\n",
    "                    fh.write(\"\\\"\" + title + \"\\\"\" + ',')\n",
    "                count -= 1\n",
    "        else:\n",
    "            if ',' in title:\n",
    "                fh.write(title)\n",
    "            else:\n",
    "                fh.write(\"\\\"\" + title + \"\\\"\")\n",
    "    fh.write(\"]\")"
   ]
  },
  {
   "cell_type": "code",
   "execution_count": null,
   "metadata": {
    "collapsed": true
   },
   "outputs": [],
   "source": []
  }
 ],
 "metadata": {
  "kernelspec": {
   "display_name": "Django Shell-Plus",
   "language": "python",
   "name": "django_extensions"
  },
  "language_info": {
   "codemirror_mode": {
    "name": "ipython",
    "version": 3
   },
   "file_extension": ".py",
   "mimetype": "text/x-python",
   "name": "python",
   "nbconvert_exporter": "python",
   "pygments_lexer": "ipython3",
   "version": "3.4.3"
  }
 },
 "nbformat": 4,
 "nbformat_minor": 0
}
