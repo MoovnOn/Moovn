{
 "cells": [
  {
   "cell_type": "code",
   "execution_count": 46,
   "metadata": {
    "collapsed": true
   },
   "outputs": [],
   "source": [
    "import pandas as pd\n",
    "import re"
   ]
  },
  {
   "cell_type": "markdown",
   "metadata": {},
   "source": [
    "### Splits states and cities\n",
    "Note: Go into university_ranking.csv and change \"Rutgers: the state of ... ...\" to just \"Rutgers\" prior to reading the csv. There are 2 files for Rutgers btw :)"
   ]
  },
  {
   "cell_type": "code",
   "execution_count": 47,
   "metadata": {
    "collapsed": true
   },
   "outputs": [],
   "source": [
    "colleges = pd.read_csv(\"university_ranking.csv\", header=None)"
   ]
  },
  {
   "cell_type": "code",
   "execution_count": 48,
   "metadata": {
    "collapsed": false
   },
   "outputs": [
    {
     "data": {
      "text/html": [
       "<div>\n",
       "<table border=\"1\" class=\"dataframe\">\n",
       "  <thead>\n",
       "    <tr style=\"text-align: right;\">\n",
       "      <th></th>\n",
       "      <th>0</th>\n",
       "      <th>1</th>\n",
       "      <th>2</th>\n",
       "      <th>3</th>\n",
       "      <th>4</th>\n",
       "    </tr>\n",
       "  </thead>\n",
       "  <tbody>\n",
       "    <tr>\n",
       "      <th>0</th>\n",
       "      <td>1</td>\n",
       "      <td>1</td>\n",
       "      <td>'Princeton University'</td>\n",
       "      <td>Princeton, NJ</td>\n",
       "      <td>$41820</td>\n",
       "    </tr>\n",
       "    <tr>\n",
       "      <th>1</th>\n",
       "      <td>2</td>\n",
       "      <td>2</td>\n",
       "      <td>'Harvard University'</td>\n",
       "      <td>Cambridge, MA</td>\n",
       "      <td>$43938</td>\n",
       "    </tr>\n",
       "    <tr>\n",
       "      <th>2</th>\n",
       "      <td>3</td>\n",
       "      <td>3</td>\n",
       "      <td>'Yale University'</td>\n",
       "      <td>New Haven, CT</td>\n",
       "      <td>$45800</td>\n",
       "    </tr>\n",
       "    <tr>\n",
       "      <th>3</th>\n",
       "      <td>4</td>\n",
       "      <td>4</td>\n",
       "      <td>'Columbia University'</td>\n",
       "      <td>New York, NY</td>\n",
       "      <td>$51008</td>\n",
       "    </tr>\n",
       "    <tr>\n",
       "      <th>4</th>\n",
       "      <td>5</td>\n",
       "      <td>4</td>\n",
       "      <td>'Stanford University'</td>\n",
       "      <td>Stanford, CA</td>\n",
       "      <td>$44757</td>\n",
       "    </tr>\n",
       "  </tbody>\n",
       "</table>\n",
       "</div>"
      ],
      "text/plain": [
       "   0  1                       2              3       4\n",
       "0  1  1  'Princeton University'  Princeton, NJ  $41820\n",
       "1  2  2    'Harvard University'  Cambridge, MA  $43938\n",
       "2  3  3       'Yale University'  New Haven, CT  $45800\n",
       "3  4  4   'Columbia University'   New York, NY  $51008\n",
       "4  5  4   'Stanford University'   Stanford, CA  $44757"
      ]
     },
     "execution_count": 48,
     "metadata": {},
     "output_type": "execute_result"
    }
   ],
   "source": [
    "colleges.head()"
   ]
  },
  {
   "cell_type": "code",
   "execution_count": 49,
   "metadata": {
    "collapsed": true
   },
   "outputs": [],
   "source": [
    "new = colleges[3].apply(lambda x: pd.Series([i.strip() for i in x.split(',')]))"
   ]
  },
  {
   "cell_type": "code",
   "execution_count": 50,
   "metadata": {
    "collapsed": true
   },
   "outputs": [],
   "source": [
    "colleges = pd.concat([colleges, new], axis=1)"
   ]
  },
  {
   "cell_type": "code",
   "execution_count": 51,
   "metadata": {
    "collapsed": true
   },
   "outputs": [],
   "source": [
    "colleges.columns = ['delete', 'rank', 'college', 'delete', 'tuition', 'city', 'state']"
   ]
  },
  {
   "cell_type": "code",
   "execution_count": 52,
   "metadata": {
    "collapsed": true
   },
   "outputs": [],
   "source": [
    "del colleges['delete']"
   ]
  },
  {
   "cell_type": "code",
   "execution_count": 53,
   "metadata": {
    "collapsed": false
   },
   "outputs": [],
   "source": [
    "colleges.columns = ['0', '1', '2', '3','4']"
   ]
  },
  {
   "cell_type": "code",
   "execution_count": 54,
   "metadata": {
    "collapsed": false
   },
   "outputs": [],
   "source": [
    "colleges.to_csv(\"colleges.csv\", index=None, headers=None)"
   ]
  },
  {
   "cell_type": "markdown",
   "metadata": {},
   "source": [
    "---"
   ]
  },
  {
   "cell_type": "code",
   "execution_count": 55,
   "metadata": {
    "collapsed": false
   },
   "outputs": [],
   "source": [
    "with open(\"colleges.csv\") as file:\n",
    "        colleges = {line.split(',')[1].strip('\"'): {\"rank\":line.split(',')[0],\n",
    "                                        \"tuition\":line.split(',')[2].strip('$'),\n",
    "                                        \"city\":line.split(',')[3],\n",
    "                                        \"state\":line.split(',')[4].strip('\\n')} for line in file}"
   ]
  },
  {
   "cell_type": "code",
   "execution_count": 58,
   "metadata": {
    "collapsed": false
   },
   "outputs": [],
   "source": [
    "for college in colleges:\n",
    "    money = re.sub(\"\\$\", \"\", colleges[college][\"tuition\"])\n",
    "    newmoney = re.sub(\"in-state: \", \"\", money)\n",
    "    clean = re.sub(\" out-of-state: \", \",\", newmoney)\n",
    "    new = clean.split(',')\n",
    "    if len(new) <= 1:\n",
    "        if new[0] == '':\n",
    "            tuition = 0\n",
    "        else:\n",
    "            tuition = int(new[0])\n",
    "    else:\n",
    "        in_state = int(new[0])\n",
    "        out_state = int(new[1])"
   ]
  }
 ],
 "metadata": {
  "kernelspec": {
   "display_name": "Django Shell-Plus",
   "language": "python",
   "name": "django_extensions"
  },
  "language_info": {
   "codemirror_mode": {
    "name": "ipython",
    "version": 3
   },
   "file_extension": ".py",
   "mimetype": "text/x-python",
   "name": "python",
   "nbconvert_exporter": "python",
   "pygments_lexer": "ipython3",
   "version": "3.4.3"
  }
 },
 "nbformat": 4,
 "nbformat_minor": 0
}
